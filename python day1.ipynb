{
 "cells": [
  {
   "cell_type": "code",
   "execution_count": 1,
   "id": "9261b485-f3f7-41d9-8e5e-7f52291ae273",
   "metadata": {},
   "outputs": [
    {
     "name": "stdout",
     "output_type": "stream",
     "text": [
      "Python and Java !\n"
     ]
    }
   ],
   "source": [
    "print(\"Python and Java !\") "
   ]
  },
  {
   "cell_type": "code",
   "execution_count": 2,
   "id": "54f99ca2-fc85-419e-8781-571b6f22b345",
   "metadata": {},
   "outputs": [
    {
     "name": "stdout",
     "output_type": "stream",
     "text": [
      "Welcome to python world!Let's get started\n"
     ]
    }
   ],
   "source": [
    "print(\"Welcome to python world!Let's start cod\")"
   ]
  },
  {
   "cell_type": "code",
   "execution_count": null,
   "id": "778b5cbd-ea4b-439d-a8ff-1c923726a269",
   "metadata": {},
   "outputs": [],
   "source": []
  }
 ],
 "metadata": {
  "kernelspec": {
   "display_name": "Python 3",
   "language": "python",
   "name": "python3"
  },
  "language_info": {
   "codemirror_mode": {
    "name": "ipython",
    "version": 3
   },
   "file_extension": ".py",
   "mimetype": "text/x-python",
   "name": "python",
   "nbconvert_exporter": "python",
   "pygments_lexer": "ipython3",
   "version": "3.8.8"
  }
 },
 "nbformat": 4,
 "nbformat_minor": 5
}
